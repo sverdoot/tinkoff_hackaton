{
  "nbformat": 4,
  "nbformat_minor": 0,
  "metadata": {
    "kernelspec": {
      "name": "python3",
      "display_name": "Python 3"
    },
    "colab": {
      "name": "2020_hack_baseline_public (1).ipynb",
      "provenance": [],
      "collapsed_sections": [],
      "toc_visible": true
    },
    "accelerator": "GPU"
  },
  "cells": [
    {
      "cell_type": "markdown",
      "metadata": {
        "id": "_zlk7j0VcKpb",
        "colab_type": "text"
      },
      "source": [
        "# NEXT MONTH EXPENSE PREDICTION\n",
        "\n",
        "In the following notebook we are adapting the baseline model in order to predict the next month expense on a given merchant type.\n",
        "\n",
        "More for each user we calculate sum of expence in each merchant type to predict the expense in the next month taking into account all the previous monthes. \n",
        "\n",
        "We don't consider transactions with 'Снятие наличных' transaction type.\n",
        "\n",
        "We adapt the baseline model for this Hackaton by using transformer model to encorporte the sequential structure of user's spendings. For this aim we use positional embeddings as an additional layer of embeddings. \n",
        "\n",
        "As a baseline for *our* task we took the very simple predictor - mean expence during privious monthes. In this work we investigate if there is a need in any complicated solution or our non-parametric baseline is also OK.\n",
        "\n",
        "As a result we found that using the NN model we could slightly improve the quality of prediction, but honostly saying just taking the mean of expences during previous monthes is a very strong baseline. So we suggest a very simple but hard-to-beat solution to our next-month expence predictive model.\n",
        "\n",
        "P.S. We suspect that some *other organizations*  also use such \"average over past\" predictor in their \n",
        "solution.\n",
        "\n",
        "P.P.S. By other organithation we mean Sberbank actually.\n"
      ]
    },
    {
      "cell_type": "code",
      "metadata": {
        "id": "WDoAJehJvLDf",
        "colab_type": "code",
        "colab": {
          "base_uri": "https://localhost:8080/",
          "height": 34
        },
        "outputId": "5e3bb2f9-d667-4114-b53e-b479173c88b2"
      },
      "source": [
        "from google.colab import drive\n",
        "drive.mount('/content/drive')"
      ],
      "execution_count": null,
      "outputs": [
        {
          "output_type": "stream",
          "text": [
            "Mounted at /content/drive\n"
          ],
          "name": "stdout"
        }
      ]
    },
    {
      "cell_type": "code",
      "metadata": {
        "id": "qNkDouT4CfMz",
        "colab_type": "code",
        "colab": {}
      },
      "source": [
        "! pip install --upgrade numpy pandas tqdm torch catalyst==20.09"
      ],
      "execution_count": null,
      "outputs": []
    },
    {
      "cell_type": "code",
      "metadata": {
        "id": "o08k0IFOCfM3",
        "colab_type": "code",
        "colab": {}
      },
      "source": [
        "import os\n",
        "import json\n",
        "import pickle\n",
        "from bisect import bisect_left, bisect_right\n",
        "from datetime import datetime, timedelta\n",
        "from collections import defaultdict, Counter\n",
        "\n",
        "import numpy as np\n",
        "import pandas as pd\n",
        "from tqdm import tqdm\n",
        "\n",
        "# GPU hack if you need\n",
        "# os.environ[\"CUDA_VISIBLE_DEVICES\"] = \"0\""
      ],
      "execution_count": 1,
      "outputs": []
    },
    {
      "cell_type": "code",
      "metadata": {
        "id": "8jU1nVq9vuab",
        "colab_type": "code",
        "colab": {
          "base_uri": "https://localhost:8080/",
          "height": 71
        },
        "outputId": "fb957589-4510-4e7d-b390-b8442f6fdfa2"
      },
      "source": [
        "!unzip drive/My\\ Drive/datasets/hackathon_data.zip\n",
        "!mv hackathon_data drive/My\\ Drive/datasets/"
      ],
      "execution_count": 2,
      "outputs": [
        {
          "output_type": "stream",
          "text": [
            "Archive:  drive/My Drive/datasets/hackathon_data.zip\n",
            "replace hackathon_data/avk_hackathon_data_account_x_balance.csv? [y]es, [n]o, [A]ll, [N]one, [r]ename: mv: inter-device move failed: 'hackathon_data' to 'drive/My Drive/datasets/hackathon_data'; unable to remove target: Directory not empty\n"
          ],
          "name": "stdout"
        }
      ]
    },
    {
      "cell_type": "markdown",
      "metadata": {
        "id": "MD0TKDyMCfM7",
        "colab_type": "text"
      },
      "source": [
        "# Data\n",
        "\n",
        "Columns\n",
        "- `party_rk` – client unique identifier\n",
        "- `account_rk` – client account unique identifier\n",
        "- `financial_account_type_cd` – debit/credit card flag\n",
        "- `transaction_dttm` – operation datetime\n",
        "- `transaction_type_desc` – purchase/payment/...\n",
        "- `transaction_amt_rur` – transaction price\n",
        "- `merchant_type` - DUTY FREE STORES/FUEL DEALERS/RESTAURANTS/ etc\n",
        "- `merchant_group_rk` - McDonald's/Wildberries/ etc\n",
        "\n",
        "It's important that table is already sorted by `transaction_dttm` column!!!"
      ]
    },
    {
      "cell_type": "code",
      "metadata": {
        "scrolled": false,
        "id": "NxRbuZnfCfM8",
        "colab_type": "code",
        "colab": {
          "base_uri": "https://localhost:8080/",
          "height": 224
        },
        "outputId": "5c6af862-f288-4737-e123-68a6c86c9bc4"
      },
      "source": [
        "DATADIR = \"/content/drive/My Drive/datasets/hackathon_data\" # \"./data\"\n",
        "transactions_path = f\"{DATADIR}/avk_hackathon_data_transactions.csv\"\n",
        "pd.read_csv(f\"{DATADIR}/avk_hackathon_data_transactions.csv\", nrows=5)"
      ],
      "execution_count": 2,
      "outputs": [
        {
          "output_type": "execute_result",
          "data": {
            "text/html": [
              "<div>\n",
              "<style scoped>\n",
              "    .dataframe tbody tr th:only-of-type {\n",
              "        vertical-align: middle;\n",
              "    }\n",
              "\n",
              "    .dataframe tbody tr th {\n",
              "        vertical-align: top;\n",
              "    }\n",
              "\n",
              "    .dataframe thead th {\n",
              "        text-align: right;\n",
              "    }\n",
              "</style>\n",
              "<table border=\"1\" class=\"dataframe\">\n",
              "  <thead>\n",
              "    <tr style=\"text-align: right;\">\n",
              "      <th></th>\n",
              "      <th>party_rk</th>\n",
              "      <th>account_rk</th>\n",
              "      <th>financial_account_type_cd</th>\n",
              "      <th>transaction_dttm</th>\n",
              "      <th>transaction_type_desc</th>\n",
              "      <th>transaction_amt_rur</th>\n",
              "      <th>merchant_rk</th>\n",
              "      <th>merchant_type</th>\n",
              "      <th>merchant_group_rk</th>\n",
              "      <th>category</th>\n",
              "    </tr>\n",
              "  </thead>\n",
              "  <tbody>\n",
              "    <tr>\n",
              "      <th>0</th>\n",
              "      <td>20337</td>\n",
              "      <td>19666</td>\n",
              "      <td>1</td>\n",
              "      <td>2019-01-01</td>\n",
              "      <td>Покупка</td>\n",
              "      <td>84.00</td>\n",
              "      <td>88676.0</td>\n",
              "      <td>348.0</td>\n",
              "      <td>NaN</td>\n",
              "      <td>Сувениры</td>\n",
              "    </tr>\n",
              "    <tr>\n",
              "      <th>1</th>\n",
              "      <td>63404</td>\n",
              "      <td>72991</td>\n",
              "      <td>1</td>\n",
              "      <td>2019-01-01</td>\n",
              "      <td>Покупка</td>\n",
              "      <td>410.00</td>\n",
              "      <td>887248.0</td>\n",
              "      <td>330.0</td>\n",
              "      <td>725.0</td>\n",
              "      <td>Фаст Фуд</td>\n",
              "    </tr>\n",
              "    <tr>\n",
              "      <th>2</th>\n",
              "      <td>24789</td>\n",
              "      <td>23517</td>\n",
              "      <td>2</td>\n",
              "      <td>2019-01-01</td>\n",
              "      <td>Покупка</td>\n",
              "      <td>701.44</td>\n",
              "      <td>830014.0</td>\n",
              "      <td>291.0</td>\n",
              "      <td>NaN</td>\n",
              "      <td>Супермаркеты</td>\n",
              "    </tr>\n",
              "    <tr>\n",
              "      <th>3</th>\n",
              "      <td>57970</td>\n",
              "      <td>64838</td>\n",
              "      <td>2</td>\n",
              "      <td>2019-01-01</td>\n",
              "      <td>Покупка</td>\n",
              "      <td>6203.70</td>\n",
              "      <td>363834.0</td>\n",
              "      <td>278.0</td>\n",
              "      <td>454.0</td>\n",
              "      <td>Дом/Ремонт</td>\n",
              "    </tr>\n",
              "    <tr>\n",
              "      <th>4</th>\n",
              "      <td>12232</td>\n",
              "      <td>11591</td>\n",
              "      <td>2</td>\n",
              "      <td>2019-01-01</td>\n",
              "      <td>Покупка</td>\n",
              "      <td>734.53</td>\n",
              "      <td>85919.0</td>\n",
              "      <td>286.0</td>\n",
              "      <td>878.0</td>\n",
              "      <td>Супермаркеты</td>\n",
              "    </tr>\n",
              "  </tbody>\n",
              "</table>\n",
              "</div>"
            ],
            "text/plain": [
              "   party_rk  account_rk  ...  merchant_group_rk      category\n",
              "0     20337       19666  ...                NaN      Сувениры\n",
              "1     63404       72991  ...              725.0      Фаст Фуд\n",
              "2     24789       23517  ...                NaN  Супермаркеты\n",
              "3     57970       64838  ...              454.0    Дом/Ремонт\n",
              "4     12232       11591  ...              878.0  Супермаркеты\n",
              "\n",
              "[5 rows x 10 columns]"
            ]
          },
          "metadata": {
            "tags": []
          },
          "execution_count": 2
        }
      ]
    },
    {
      "cell_type": "markdown",
      "metadata": {
        "id": "B9bnOuLaxV6o",
        "colab_type": "text"
      },
      "source": [
        "Group our data by users and merchant types and compute total expence for each month."
      ]
    },
    {
      "cell_type": "code",
      "metadata": {
        "id": "8vcsYsPErorA",
        "colab_type": "code",
        "colab": {}
      },
      "source": [
        "transactions = pd.read_csv(f\"{DATADIR}/avk_hackathon_data_transactions.csv\")\n",
        "\n",
        "a = transactions.columns.values.tolist()\n",
        "a.remove('transaction_dttm')\n",
        "a.remove('transaction_amt_rur')\n",
        "\n",
        "transactions['transaction_dttm'] = pd.to_datetime(transactions['transaction_dttm'])\n",
        "tr_gb = transactions.groupby(['party_rk', 'merchant_type'])\n",
        "df = tr_gb['account_rk'].count()\n",
        "transactions = transactions.set_index(['party_rk', 'merchant_type']).loc[df[df > 10].index, :].reset_index()\n",
        "\n",
        "transactions = transactions[transactions['transaction_type_desc'] != 'Снятие наличных']\n",
        "a = ['party_rk', 'merchant_type']\n",
        "tr_gb = transactions.groupby([pd.Grouper(key='transaction_dttm', freq='MS'),\n",
        "                     *a])['transaction_amt_rur']\n",
        "new_df = tr_gb.sum().reset_index()\n",
        "\n",
        "# tr_gb = new_df.groupby(['party_rk', 'merchant_type'])\n",
        "# df = tr_gb['transaction_amt_rur'].count()\n",
        "# new_df = new_df.set_index(['party_rk', 'merchant_type']).loc[df[df >= 6].index, :].reset_index()\n",
        "\n",
        "print(len(new_df.party_rk.unique()))\n",
        "print(len(new_df.columns))\n",
        "new_df.to_csv(f'{DATADIR}/new_transactions.csv')"
      ],
      "execution_count": null,
      "outputs": []
    },
    {
      "cell_type": "markdown",
      "metadata": {
        "id": "VT0HZR2_CfNA",
        "colab_type": "text"
      },
      "source": [
        "## Mappings\n",
        "~1 min"
      ]
    },
    {
      "cell_type": "code",
      "metadata": {
        "id": "AKHwvxB5CfNA",
        "colab_type": "code",
        "colab": {}
      },
      "source": [
        "# Prepare & save mappings\n",
        "mappings = defaultdict(dict)\n",
        "unk_token = \"<UNK>\"\n",
        "\n",
        "\n",
        "def create_mapping(values):\n",
        "    mapping = {unk_token: 0}\n",
        "    for v in values:\n",
        "        if not pd.isna(v):\n",
        "            mapping[str(v)] = len(mapping)\n",
        "\n",
        "    return mapping\n",
        "\n",
        "for col in tqdm(\n",
        "    [\n",
        "        \"transaction_type_desc\",\n",
        "        \"merchant_rk\",\n",
        "        \"merchant_type\",\n",
        "        \"merchant_group_rk\",\n",
        "        \"category\",\n",
        "        \"financial_account_type_cd\",\n",
        "    ]\n",
        "):\n",
        "    col_values = (\n",
        "        pd.read_csv(transactions_path, usecols=[col])[col]\n",
        "        .fillna(unk_token)\n",
        "        .astype(str)\n",
        "    )\n",
        "    mappings[col] = create_mapping(col_values.unique())\n",
        "    del col_values\n",
        "\n",
        "\n",
        "with open(f\"{DATADIR}/mappings.json\", \"w\") as f:\n",
        "    json.dump(mappings, f)"
      ],
      "execution_count": null,
      "outputs": []
    },
    {
      "cell_type": "code",
      "metadata": {
        "id": "N_2kzArrCfND",
        "colab_type": "code",
        "colab": {}
      },
      "source": [
        "#load mappings\n",
        "with open(f\"{DATADIR}/mappings.json\", 'r') as f:\n",
        "    mappings = json.load(f)"
      ],
      "execution_count": 4,
      "outputs": []
    },
    {
      "cell_type": "markdown",
      "metadata": {
        "id": "Yc69QUTfCfNG",
        "colab_type": "text"
      },
      "source": [
        "## Parse transactions by users\n",
        "~ 15 min"
      ]
    },
    {
      "cell_type": "code",
      "metadata": {
        "id": "utu8YmCS9CLW",
        "colab_type": "code",
        "colab": {}
      },
      "source": [
        "pd_start_time = pd.to_datetime(\"2019-01-01\")\n",
        "pd_end_time = pd.to_datetime(\"2019-12-01\")"
      ],
      "execution_count": 5,
      "outputs": []
    },
    {
      "cell_type": "code",
      "metadata": {
        "id": "26tKxmIY14p9",
        "colab_type": "code",
        "colab": {}
      },
      "source": [
        "# Prepare & save client data\n",
        "party2dates = defaultdict(list)  # for each party save a series of the transaction dates \n",
        "party2sum = defaultdict(list)  # for each party save a series of the transaction costs \n",
        "party2merchant_type = defaultdict(list)  # for each party save a series of the transaction_type \n",
        "party2trans_type = defaultdict(list)  # for each party save a series of the transaction merchant_type\n",
        "party2days = defaultdict(list)\n",
        "\n",
        "usecols = [\n",
        "    \"party_rk\",\n",
        "    \"transaction_dttm\",\n",
        "    \"transaction_amt_rur\",\n",
        "    \"merchant_type\",\n",
        "]\n",
        "\n",
        "for chunk in tqdm(\n",
        "    pd.read_csv(f'{DATADIR}/new_transactions.csv', usecols=usecols, chunksize=100_000)\n",
        "):\n",
        "\n",
        "    chunk[\"transaction_dttm\"] = (\n",
        "        chunk[\"transaction_dttm\"].fillna(unk_token).astype(str)\n",
        "    )\n",
        "    chunk[\"merchant_type\"] = (\n",
        "        chunk[\"merchant_type\"].fillna(unk_token).astype(str)\n",
        "    )\n",
        "\n",
        "    chunk[\"transaction_amt_rur\"] = chunk[\"transaction_amt_rur\"].fillna(0)\n",
        "\n",
        "    for i, row in chunk.iterrows():\n",
        "        merchant_rk = mappings[\"merchant_type\"][row.merchant_type]\n",
        "        if (row.party_rk, merchant_rk) in party2dates.keys():\n",
        "            months_zero_sum = (pd.to_datetime(row.transaction_dttm) - pd_start_time).days // 28 - len(party2dates[(row.party_rk, merchant_rk)]) \n",
        "        else:\n",
        "            months_zero_sum = 0\n",
        "        n = months_zero_sum\n",
        "        sums = [0.0]*n + [row.transaction_amt_rur]\n",
        "        party2dates[(row.party_rk, merchant_rk)].extend([row.transaction_dttm]*(n+1))\n",
        "        party2sum[(row.party_rk, merchant_rk)].extend(sums)\n",
        "        party2merchant_type[(row.party_rk, merchant_rk)].extend(\n",
        "            [mappings[\"merchant_type\"][row.merchant_type]]*(n+1)\n",
        "        )\n",
        "    \n",
        "    del chunk\n",
        "\n",
        "pickle.dump(party2dates, open(f\"{DATADIR}/new_party2dates.pkl\", \"wb\"))\n",
        "pickle.dump(party2sum, open(f\"{DATADIR}/new_party2sum.pkl\", \"wb\"))\n",
        "pickle.dump(party2merchant_type, open(f\"{DATADIR}/new_party2merchant_type.pkl\", \"wb\"))"
      ],
      "execution_count": null,
      "outputs": []
    },
    {
      "cell_type": "code",
      "metadata": {
        "id": "eq8PzO4cqgfB",
        "colab_type": "code",
        "colab": {}
      },
      "source": [
        "# load client data\n",
        "party2days = pickle.load(open(f\"{DATADIR}/new_party2days.pkl\", 'rb'))\n",
        "party2dates = pickle.load(open(f\"{DATADIR}/new_party2dates.pkl\", 'rb'))\n",
        "party2sum = pickle.load(open(f\"{DATADIR}/new_party2sum.pkl\", 'rb'))\n",
        "party2merchant_type = pickle.load(open(f\"{DATADIR}/new_party2merchant_type.pkl\", 'rb'))"
      ],
      "execution_count": 6,
      "outputs": []
    },
    {
      "cell_type": "code",
      "metadata": {
        "id": "dtWKdfrsHoHO",
        "colab_type": "code",
        "colab": {}
      },
      "source": [
        "RUBBLE_DELIMETER = 10000"
      ],
      "execution_count": 7,
      "outputs": []
    },
    {
      "cell_type": "code",
      "metadata": {
        "id": "yqZDQqDzOg3l",
        "colab_type": "code",
        "colab": {}
      },
      "source": [
        "dates = pd.date_range(\"2019-01-01\", \"2019-12-01\", freq=\"MS\").strftime(\"%Y-%m-%d\").tolist()\n",
        "\n",
        "keys = list(party2dates.keys())\n",
        "for key in keys:\n",
        "    month_rest = 12 - len(party2sum[key])\n",
        "    party2sum[key].extend(month_rest*[0.0])\n",
        "    party2sum[key] = np.array(party2sum[key]) / RUBBLE_DELIMETER\n",
        "    assert len(party2sum[key]) == 12, print(len(party2sum[key]))\n",
        "    party2merchant_type[key].extend(party2merchant_type[-1]*month_rest)\n",
        "    party2dates[key] = dates"
      ],
      "execution_count": 8,
      "outputs": []
    },
    {
      "cell_type": "code",
      "metadata": {
        "id": "uf2Pmq0FCfNM",
        "colab_type": "code",
        "colab": {
          "base_uri": "https://localhost:8080/",
          "height": 34
        },
        "outputId": "9562716e-28e6-4efe-f203-f5da0a4d4cd3"
      },
      "source": [
        "from sklearn.model_selection import train_test_split\n",
        "\n",
        "train_party, valid_party = train_test_split(\n",
        "    pd.read_csv(f'{DATADIR}/new_transactions.csv', usecols=['party_rk']).party_rk.unique(), \n",
        "    train_size=0.8, random_state=42\n",
        ")\n",
        "\n",
        "print(f'Train: {len(train_party)} Val: {len(valid_party)}')"
      ],
      "execution_count": 9,
      "outputs": [
        {
          "output_type": "stream",
          "text": [
            "Train: 37997 Val: 9500\n"
          ],
          "name": "stdout"
        }
      ]
    },
    {
      "cell_type": "code",
      "metadata": {
        "id": "6cyds9JTD95j",
        "colab_type": "code",
        "colab": {}
      },
      "source": [
        "pairs = party2dates.keys()\n",
        "\n",
        "user2merchants = defaultdict(list)\n",
        "for party_rk, merchant_rk in pairs:\n",
        "    user2merchants[party_rk].append(merchant_rk)"
      ],
      "execution_count": 10,
      "outputs": []
    },
    {
      "cell_type": "code",
      "metadata": {
        "scrolled": true,
        "id": "CGZuEgEoCfNO",
        "colab_type": "code",
        "colab": {}
      },
      "source": [
        "predict_period_len = 30  # -- days\n",
        "train_predict_dates = (\n",
        "    pd.date_range(\"2019-10-01\", \"2019-10-31\", freq=\"MS\") # predict only for fixed month for simplicity\n",
        "    .strftime(\"%Y-%m-%d\")\n",
        "    .tolist()\n",
        ")\n",
        "valid_predict_dates = (\n",
        "    pd.date_range(\"2019-11-01\", \"2019-12-31\", freq=\"MS\")\n",
        "    .strftime(\"%Y-%m-%d\")\n",
        "    .tolist()\n",
        ")\n",
        "submission_predict_dates = (\n",
        "    pd.date_range(\"2020-01-01\", \"2020-02-28\", freq=\"2MS\")\n",
        "    .strftime(\"%Y-%m-%d\")\n",
        "    .tolist()\n",
        ")"
      ],
      "execution_count": 11,
      "outputs": []
    },
    {
      "cell_type": "code",
      "metadata": {
        "id": "Z6rAD6SdCfNR",
        "colab_type": "code",
        "colab": {}
      },
      "source": [
        "def prepare_data(party_list, mode=\"train\"):\n",
        "    \"\"\"\n",
        "    This function define the pipeline of the creation of train and valid samples.\n",
        "    We consider each client from party_list. For each client take each \n",
        "    predict_period_start from predict_dates list. All client transaction before\n",
        "    this date is our features. Next, we look at the customer's transactions in \n",
        "    the next two months. This transactions should be predicted. It will form \n",
        "    our labels vector.\n",
        "    \"\"\"\n",
        "\n",
        "    data_sum = []\n",
        "    data_trans_type = []\n",
        "    data_merchant_type = []\n",
        "    data_labels = []\n",
        "    pairs_list = []\n",
        "    for party_rk in party_list:\n",
        "        pairs_list.extend([(party_rk, m) for m in user2merchants[party_rk]])\n",
        "    \n",
        "    for (party_rk, merchant_rk) in tqdm(pairs_list):\n",
        "        date_series = party2dates[(party_rk, merchant_rk)]\n",
        "        sum_series = party2sum[(party_rk, merchant_rk)]\n",
        "        merch_type_series = party2merchant_type[(party_rk, merchant_rk)]\n",
        "\n",
        "        if mode == \"train\":\n",
        "            predict_dates = train_predict_dates\n",
        "        elif mode == \"valid\":\n",
        "            predict_dates = valid_predict_dates\n",
        "        elif mode == \"submission\":\n",
        "            predict_dates = submission_predict_dates\n",
        "        else:\n",
        "            raise Exception(\"Unknown mode\")\n",
        "\n",
        "        for predict_period_start in predict_dates:\n",
        "\n",
        "            predict_period_end = datetime.strftime(\n",
        "                datetime.strptime(predict_period_start, \"%Y-%m-%d\")\n",
        "                + timedelta(days=predict_period_len),\n",
        "                \"%Y-%m-%d\",\n",
        "            )\n",
        "\n",
        "            l, r = (\n",
        "                bisect_left(date_series, predict_period_start),\n",
        "                bisect_right(date_series, predict_period_end),\n",
        "            )\n",
        "\n",
        "            if mode == 'train':\n",
        "                r = 10\n",
        "            elif mode == 'valid':\n",
        "                r = 11\n",
        "\n",
        "            merch_type_series = 12 * [merch_type_series[0]]\n",
        "            history_merch_type = merch_type_series[:r]\n",
        "            history_sum = sum_series[:r]\n",
        "            predict_sum = sum_series[1:r+1]\n",
        "\n",
        "            if len(sum_series) == 12 and np.sum([x > 0 for x in sum_series]) > 5:\n",
        "                data_sum.append(history_sum)\n",
        "                data_merchant_type.append(history_merch_type)\n",
        "                data_labels.append(predict_sum)\n",
        "\n",
        "            assert len(sum_series) == 12\n",
        "\n",
        "    return data_sum, data_merchant_type, data_labels"
      ],
      "execution_count": 12,
      "outputs": []
    },
    {
      "cell_type": "code",
      "metadata": {
        "id": "zZzpIPNNCfNT",
        "colab_type": "code",
        "colab": {
          "base_uri": "https://localhost:8080/",
          "height": 51
        },
        "outputId": "fff12743-2d8b-49f9-a3dc-7b06ac226b2c"
      },
      "source": [
        "train_sum, train_merchant_type, train_labels = prepare_data(\n",
        "    train_party, mode=\"train\"\n",
        ")\n",
        "valid_sum, valid_merchant_type, valid_labels = prepare_data(\n",
        "    valid_party, mode=\"valid\"\n",
        ")"
      ],
      "execution_count": 13,
      "outputs": [
        {
          "output_type": "stream",
          "text": [
            "100%|██████████| 183070/183070 [00:06<00:00, 27641.88it/s]\n",
            "100%|██████████| 46369/46369 [00:03<00:00, 13963.49it/s]\n"
          ],
          "name": "stderr"
        }
      ]
    },
    {
      "cell_type": "markdown",
      "metadata": {
        "id": "LMd1E-xlxpAt",
        "colab_type": "text"
      },
      "source": [
        "Example of time series of monthly expences"
      ]
    },
    {
      "cell_type": "code",
      "metadata": {
        "id": "JS90dGCykrec",
        "colab_type": "code",
        "colab": {
          "base_uri": "https://localhost:8080/",
          "height": 282
        },
        "outputId": "3a2e6224-be67-4180-feb7-a6a16c555b5f"
      },
      "source": [
        "from matplotlib import pyplot as plt\n",
        "import random\n",
        "\n",
        "n = random.randint(0, len(train_sum))\n",
        "last_del = list(train_labels[n][-1:])\n",
        "plt.plot(np.arange(len(train_sum[n])+1), list(train_sum[n]) + last_del)"
      ],
      "execution_count": 14,
      "outputs": [
        {
          "output_type": "execute_result",
          "data": {
            "text/plain": [
              "[<matplotlib.lines.Line2D at 0x7f0935dc7fd0>]"
            ]
          },
          "metadata": {
            "tags": []
          },
          "execution_count": 14
        },
        {
          "output_type": "display_data",
          "data": {
            "image/png": "[encoded data removed]",
            "text/plain": [
              "<Figure size 432x288 with 1 Axes>"
            ]
          },
          "metadata": {
            "tags": [],
            "needs_background": "light"
          }
        }
      ]
    },
    {
      "cell_type": "code",
      "metadata": {
        "id": "0gUqipggCfNX",
        "colab_type": "code",
        "colab": {}
      },
      "source": [
        "import torch\n",
        "from torch.utils.data import Dataset, DataLoader"
      ],
      "execution_count": 15,
      "outputs": []
    },
    {
      "cell_type": "code",
      "metadata": {
        "id": "Ex8SKiPqCfNZ",
        "colab_type": "code",
        "colab": {}
      },
      "source": [
        "MERCH_TYPE_NCLASSES = len(mappings['merchant_type'])"
      ],
      "execution_count": 16,
      "outputs": []
    },
    {
      "cell_type": "code",
      "metadata": {
        "id": "wjllhPWGCfNb",
        "colab_type": "code",
        "colab": {}
      },
      "source": [
        "class RSDataset(Dataset):\n",
        "    def __init__(self, data_sum, data_merchant_type, labels):\n",
        "        super(RSDataset, self).__init__()\n",
        "        self.data_sum = data_sum\n",
        "        self.data_merchant_type = data_merchant_type\n",
        "        self.labels = labels\n",
        "\n",
        "    def __len__(self):\n",
        "        return len(self.data_sum)\n",
        "\n",
        "    def __getitem__(self, idx):\n",
        "        targets = np.array(self.labels[idx])\n",
        "\n",
        "        item = {\n",
        "            \"features\": {},\n",
        "            \"targets\": targets,\n",
        "        }\n",
        "\n",
        "        sum_feature = np.array(self.data_sum[idx])\n",
        "        item[\"features\"][\"sum\"] = torch.from_numpy(sum_feature).float()\n",
        "\n",
        "        for feature_name, feature_values in zip(\n",
        "            [\"merchant_type\"],\n",
        "            [self.data_merchant_type[idx]],\n",
        "        ):\n",
        "\n",
        "            feature_values = np.array(feature_values)\n",
        "            feature_values = np.array(feature_values)\n",
        "            mask = np.ones(feature_values.shape[0], dtype=np.float32)\n",
        "\n",
        "            item[\"features\"][feature_name] = torch.from_numpy(feature_values).long()\n",
        "            item[\"features\"][f\"{feature_name}_mask\"] = torch.from_numpy(mask).float()\n",
        "\n",
        "        return item"
      ],
      "execution_count": 17,
      "outputs": []
    },
    {
      "cell_type": "code",
      "metadata": {
        "id": "D3-aV7lJCfNd",
        "colab_type": "code",
        "colab": {}
      },
      "source": [
        "train_dataset = RSDataset(\n",
        "    train_sum, train_merchant_type, train_labels\n",
        ")\n",
        "valid_dataset = RSDataset(\n",
        "    valid_sum, valid_merchant_type, valid_labels\n",
        ")\n"
      ],
      "execution_count": 18,
      "outputs": []
    },
    {
      "cell_type": "code",
      "metadata": {
        "id": "H8jnB23BCfNg",
        "colab_type": "code",
        "colab": {}
      },
      "source": [
        "train_loader = DataLoader(\n",
        "    train_dataset, batch_size=1024, shuffle=True, num_workers=2\n",
        ")\n",
        "valid_loader = DataLoader(\n",
        "    valid_dataset, batch_size=1024, shuffle=False, num_workers=2\n",
        ")"
      ],
      "execution_count": 19,
      "outputs": []
    },
    {
      "cell_type": "code",
      "metadata": {
        "id": "48xLjEVBLFoA",
        "colab_type": "code",
        "colab": {}
      },
      "source": [
        "train_batch = next(iter(train_loader))"
      ],
      "execution_count": 20,
      "outputs": []
    },
    {
      "cell_type": "code",
      "metadata": {
        "scrolled": true,
        "id": "SGRUJWR3CfNi",
        "colab_type": "code",
        "colab": {}
      },
      "source": [
        "# sanity check\n",
        "# for i in tqdm(range(len(train_loader))):\n",
        "#     batch = next(iter(train_loader))"
      ],
      "execution_count": 21,
      "outputs": []
    },
    {
      "cell_type": "markdown",
      "metadata": {
        "id": "J67Ms2_jCfNk",
        "colab_type": "text"
      },
      "source": [
        "## Model"
      ]
    },
    {
      "cell_type": "code",
      "metadata": {
        "id": "2kWquDGFCfNl",
        "colab_type": "code",
        "colab": {}
      },
      "source": [
        "import torch.nn as nn\n",
        "from collections import OrderedDict"
      ],
      "execution_count": 22,
      "outputs": []
    },
    {
      "cell_type": "code",
      "metadata": {
        "id": "C-PAEoqoCfNo",
        "colab_type": "code",
        "colab": {}
      },
      "source": [
        "params = {\n",
        "    'merchant_type_emb_dim': 127,\n",
        "    'transformer_nhead': 2,\n",
        "    'transformer_dim_feedforward': 128,\n",
        "    'transformer_dropout': 0.1,\n",
        "    'dense_unit': 128,\n",
        "    'num_layers': 4,\n",
        "}"
      ],
      "execution_count": 23,
      "outputs": []
    },
    {
      "cell_type": "markdown",
      "metadata": {
        "id": "Q3phIbqP0JWj",
        "colab_type": "text"
      },
      "source": [
        ""
      ]
    },
    {
      "cell_type": "code",
      "metadata": {
        "id": "NeAfj7h_CfNq",
        "colab_type": "code",
        "colab": {
          "base_uri": "https://localhost:8080/",
          "height": 34
        },
        "outputId": "c63ef22c-cd26-4068-b2c4-7bc9bef8983f"
      },
      "source": [
        "MERCH_TYPE_NCLASSES#, TRANS_TYPE_NCLASSES"
      ],
      "execution_count": 24,
      "outputs": [
        {
          "output_type": "execute_result",
          "data": {
            "text/plain": [
              "458"
            ]
          },
          "metadata": {
            "tags": []
          },
          "execution_count": 24
        }
      ]
    },
    {
      "cell_type": "code",
      "metadata": {
        "id": "p47UE00BiV8S",
        "colab_type": "code",
        "colab": {}
      },
      "source": [
        "device = torch.device('cuda:0')"
      ],
      "execution_count": 25,
      "outputs": []
    },
    {
      "cell_type": "code",
      "metadata": {
        "id": "eKgVbwBMnOC7",
        "colab_type": "code",
        "colab": {}
      },
      "source": [
        "import math\n",
        "\n",
        "class PositionalEncoding(nn.Module):\n",
        "\n",
        "    def __init__(self, d_model, dropout=0.1, max_len=16):\n",
        "        super(PositionalEncoding, self).__init__()\n",
        "        self.dropout = nn.Dropout(p=dropout)\n",
        "\n",
        "        pe = torch.zeros(max_len, d_model)\n",
        "        position = torch.arange(0, max_len, dtype=torch.float).unsqueeze(1)\n",
        "        div_term = torch.exp(torch.arange(0, d_model, 2).float() * (-math.log(10000.0) / d_model))\n",
        "        pe[:, 0::2] = torch.sin(position * div_term)\n",
        "        pe[:, 1::2] = torch.cos(position * div_term)\n",
        "        pe = pe.unsqueeze(0).transpose(0, 1)\n",
        "        self.register_buffer('pe', pe)\n",
        "\n",
        "    def forward(self, x):\n",
        "        pe = self.pe[:x.size(1)].permute(1, 0, 2)\n",
        "        x = x + pe\n",
        "        return self.dropout(x)\n",
        "\n",
        "class PositionalEncoding(nn.Module):\n",
        "    r\"\"\"Inject some information about the relative or absolute position of the tokens\n",
        "        in the sequence. The positional encodings have the same dimension as\n",
        "        the embeddings, so that the two can be summed. Here, we use sine and cosine\n",
        "        functions of different frequencies.\n",
        "    .. math::\n",
        "        \\text{PosEncoder}(pos, 2i) = sin(pos/10000^(2i/d_model))\n",
        "        \\text{PosEncoder}(pos, 2i+1) = cos(pos/10000^(2i/d_model))\n",
        "        \\text{where pos is the word position and i is the embed idx)\n",
        "    Args:\n",
        "        d_model: the embed dim (required).\n",
        "        dropout: the dropout value (default=0.1).\n",
        "        max_len: the max. length of the incoming sequence (default=5000).\n",
        "    Examples:\n",
        "        >>> pos_encoder = PositionalEncoding(d_model)\n",
        "    \"\"\"\n",
        "\n",
        "    def __init__(self, d_model, dropout=0.1, max_len=5000):\n",
        "        super(PositionalEncoding, self).__init__()\n",
        "        self.dropout = nn.Dropout(p=dropout)\n",
        "\n",
        "        pe = torch.zeros(max_len, d_model)\n",
        "        position = torch.arange(0, max_len, dtype=torch.float).unsqueeze(1)\n",
        "        div_term = torch.exp(torch.arange(0, d_model, 2).float() * (-math.log(10000.0) / d_model))\n",
        "        pe[:, 0::2] = torch.sin(position * div_term)\n",
        "        pe[:, 1::2] = torch.cos(position * div_term)\n",
        "        pe = pe.unsqueeze(0).transpose(0, 1)\n",
        "        self.register_buffer('pe', pe)\n",
        "\n",
        "    def forward(self, x):\n",
        "        r\"\"\"Inputs of forward function\n",
        "        Args:\n",
        "            x: the sequence fed to the positional encoder model (required).\n",
        "        Shape:\n",
        "            x: [sequence length, batch size, embed dim]\n",
        "            output: [sequence length, batch size, embed dim]\n",
        "        Examples:\n",
        "            >>> output = pos_encoder(x)\n",
        "        \"\"\"\n",
        "\n",
        "        x = x + self.pe[:x.size(0), :]\n",
        "        return self.dropout(x)"
      ],
      "execution_count": 26,
      "outputs": []
    },
    {
      "cell_type": "code",
      "metadata": {
        "id": "-ZsFGKLsU3BF",
        "colab_type": "code",
        "colab": {}
      },
      "source": [
        "from torch.nn import functional as F"
      ],
      "execution_count": 27,
      "outputs": []
    },
    {
      "cell_type": "code",
      "metadata": {
        "id": "5he-fJTxPjIW",
        "colab_type": "code",
        "colab": {}
      },
      "source": [
        "class Model(nn.Module):\n",
        "    def __init__(self):\n",
        "        super().__init__()\n",
        "\n",
        "        self.merchant_type_embedding = nn.Embedding(\n",
        "            MERCH_TYPE_NCLASSES, params[\"merchant_type_emb_dim\"]\n",
        "        )\n",
        "        embedding_size = (\n",
        "            params[\"merchant_type_emb_dim\"] + 1\n",
        "            #+ 1\n",
        "        )\n",
        "\n",
        "        self.positional_embedding = PositionalEncoding(embedding_size)\n",
        "\n",
        "        # self.transformer_blocks = []\n",
        "        # for i in range(params[\"num_layers\"]):\n",
        "        #     transformer_block = nn.TransformerEncoderLayer(\n",
        "        #         d_model=embedding_size,\n",
        "        #         nhead=params[\"transformer_nhead\"],\n",
        "        #         dim_feedforward=params[\"transformer_dim_feedforward\"],\n",
        "        #         dropout=params[\"transformer_dropout\"],\n",
        "        #     )\n",
        "        #     self.transformer_blocks.append(\n",
        "        #         (f\"transformer_block_{i}\", transformer_block)\n",
        "        #     )\n",
        "        self.transformer_block1 = nn.TransformerEncoderLayer(\n",
        "                d_model=embedding_size,\n",
        "                nhead=params[\"transformer_nhead\"],\n",
        "                dim_feedforward=params[\"transformer_dim_feedforward\"],\n",
        "                dropout=params[\"transformer_dropout\"],\n",
        "            )\n",
        "        self.transformer_block2 = nn.TransformerEncoderLayer(\n",
        "                d_model=embedding_size,\n",
        "                nhead=params[\"transformer_nhead\"],\n",
        "                dim_feedforward=params[\"transformer_dim_feedforward\"],\n",
        "                dropout=params[\"transformer_dropout\"],\n",
        "            )\n",
        "        self.transformer_block3 = nn.TransformerEncoderLayer(\n",
        "                d_model=embedding_size,\n",
        "                nhead=params[\"transformer_nhead\"],\n",
        "                dim_feedforward=params[\"transformer_dim_feedforward\"],\n",
        "                dropout=params[\"transformer_dropout\"],\n",
        "            )\n",
        "        self.transformer_block4 = nn.TransformerEncoderLayer(\n",
        "                d_model=embedding_size,\n",
        "                nhead=params[\"transformer_nhead\"],\n",
        "                dim_feedforward=params[\"transformer_dim_feedforward\"],\n",
        "                dropout=params[\"transformer_dropout\"],\n",
        "            )\n",
        "\n",
        "        # self.transformer_encoder = nn.Sequential(\n",
        "        #     OrderedDict(self.transformer_blocks)\n",
        "        # )\n",
        "\n",
        "        #self.transformer_encoder = OrderedDict(self.transformer_blocks)\n",
        "\n",
        "        self.linear = nn.Linear(\n",
        "            in_features=embedding_size, out_features=params[\"dense_unit\"]\n",
        "        )\n",
        "        self.scorer = nn.Linear(\n",
        "            in_features=params[\"dense_unit\"],\n",
        "            out_features=1,\n",
        "        )\n",
        "\n",
        "    def forward(self, features):\n",
        "        mask = features[\"merchant_type_mask\"]\n",
        "        for k, v in features.items():\n",
        "            features[k] = v.to(device)[:, :int(mask.sum(1)[0].item())]\n",
        "\n",
        "        merchant_type_emb = self.merchant_type_embedding(features[\"merchant_type\"].long())\n",
        "\n",
        "        merchant_type_emb = merchant_type_emb * features[\"merchant_type_mask\"].float().unsqueeze(-1)\n",
        "\n",
        "        embeddings = torch.cat(\n",
        "            (merchant_type_emb, features[\"sum\"].float().unsqueeze(-1)),\n",
        "            dim=-1,\n",
        "        )\n",
        "        embeddings = embeddings.permute(1, 0, 2)\n",
        "        embeddings = self.positional_embedding(embeddings*100)\n",
        "\n",
        "        src_mask = torch.ones(embeddings.shape[0], embeddings.shape[0]).to(device)\n",
        "        for i in range(mask.shape[1]):\n",
        "            for j in range(mask.shape[1]):\n",
        "                if i == j - 1:\n",
        "                    src_mask[i, j] = 0\n",
        "\n",
        "        x = embeddings\n",
        "        x = self.transformer_block1(src=x, src_mask=src_mask)\n",
        "        x = self.transformer_block2(src=x, src_mask=src_mask)\n",
        "        x = self.transformer_block3(src=x, src_mask=src_mask)\n",
        "        x = self.transformer_block4(src=x, src_mask=src_mask)\n",
        "        \n",
        "        #transformer_output = self.transformer_encoder(embeddings, src_mask=src_mask)#[:, -1] # predict the next sum based on all seen\n",
        "        #print(mask.sum(1).shape, transformer_output.shape)\n",
        "        #transformer_output = transformer_output[np.arange(transformer_output.shape[0]), mask.sum(1).tolist(), :]\n",
        "        #pooling = torch.mean(transformer_output, dim=1)\n",
        "        linear = F.relu(self.linear(x))\n",
        "        merch_logits = self.scorer(linear).permute(1, 0, 2).squeeze(-1)\n",
        "\n",
        "        return merch_logits"
      ],
      "execution_count": 28,
      "outputs": []
    },
    {
      "cell_type": "markdown",
      "metadata": {
        "id": "NszoLAhbCfNu",
        "colab_type": "text"
      },
      "source": [
        "### One-batch-check"
      ]
    },
    {
      "cell_type": "code",
      "metadata": {
        "id": "baHGW_wiPf_A",
        "colab_type": "code",
        "colab": {
          "base_uri": "https://localhost:8080/",
          "height": 34
        },
        "outputId": "7f2d6559-a15d-4615-da63-4a3424076d33"
      },
      "source": [
        "model = Model()\n",
        "model.to(device)\n",
        "criterion = nn.L1Loss()\n",
        "batch = next(iter(train_loader))\n",
        "output = model(batch['features'])\n",
        "loss = criterion(output, batch['targets'].float().to(device))\n",
        "print(loss)"
      ],
      "execution_count": 29,
      "outputs": [
        {
          "output_type": "stream",
          "text": [
            "tensor(1.2115, device='cuda:0', grad_fn=<L1LossBackward>)\n"
          ],
          "name": "stdout"
        }
      ]
    },
    {
      "cell_type": "markdown",
      "metadata": {
        "id": "DZz71tEDCfNw",
        "colab_type": "text"
      },
      "source": [
        "## Train loop with [Catalyst](https://github.com/catalyst-team/catalyst)\n",
        "\n",
        "[A comprehensive step-by-step guide to basic and advanced features](https://github.com/catalyst-team/catalyst#step-by-step-guide).\n",
        "\n",
        "---\n",
        "\n"
      ]
    },
    {
      "cell_type": "code",
      "metadata": {
        "id": "DcF4frWZCfNx",
        "colab_type": "code",
        "colab": {}
      },
      "source": [
        "from catalyst import dl, utils\n",
        "from catalyst.utils import metrics"
      ],
      "execution_count": 31,
      "outputs": []
    },
    {
      "cell_type": "code",
      "metadata": {
        "id": "GygG0d1WCfN2",
        "colab_type": "code",
        "colab": {}
      },
      "source": [
        "# What is Runner?\n",
        "# https://catalyst-team.github.io/catalyst/api/core.html#runner\n",
        "class CustomRunner(dl.Runner):\n",
        "\n",
        "    def _handle_batch(self, batch):\n",
        "        # model train/valid step\n",
        "        features, targets = batch[\"features\"], batch[\"targets\"]\n",
        "        targets = targets.to(device)[:, 6:]\n",
        "        logits = self.model(features)[:, 6:]\n",
        "\n",
        "        loss = self.criterion(logits, targets.float())\n",
        "\n",
        "        batch_metrics = {\n",
        "            \"loss\": -loss,\n",
        "            \"abs_diff\": -torch.abs(logits - targets).mean()*RUBBLE_DELIMETER,\n",
        "            \"relat_diff\": -(torch.abs(logits - targets) / (targets + 1)).mean(),\n",
        "        }\n",
        "        \n",
        "        self.input = {\"features\": features, \"targets\": targets}\n",
        "        self.output = {\"logits\": logits}\n",
        "        self.batch_metrics.update(batch_metrics)\n",
        "\n",
        "        if self.is_train_loader:\n",
        "            loss.backward()\n",
        "            torch.nn.utils.clip_grad_norm_(self.model.parameters(), 10.0)\n",
        "            self.optimizer.step()\n",
        "            self.optimizer.zero_grad()\n",
        "    \n",
        "    def predict_batch(self, batch):\n",
        "        # model inference step\n",
        "        batch = utils.maybe_recursive_call(batch, \"to\", device=self.device)\n",
        "        logits = self.model(batch[\"features\"])\n",
        "        scores = logits\n",
        "        return scores"
      ],
      "execution_count": 32,
      "outputs": []
    },
    {
      "cell_type": "code",
      "metadata": {
        "id": "noTAPVPSCfN5",
        "colab_type": "code",
        "colab": {}
      },
      "source": [
        "model = Model()\n",
        "model.to(device)\n",
        "criterion = nn.L1Loss()\n",
        "optimizer = torch.optim.Adam(model.parameters(), lr=0.0001)\n",
        "\n",
        "loaders = {\"train\": train_loader, \"valid\": valid_loader}"
      ],
      "execution_count": 33,
      "outputs": []
    },
    {
      "cell_type": "code",
      "metadata": {
        "id": "CH-bnRkkSRYA",
        "colab_type": "code",
        "colab": {}
      },
      "source": [
        "# %load_ext tensorboard\n",
        "# %tensorboard --logdir ./logs"
      ],
      "execution_count": 34,
      "outputs": []
    },
    {
      "cell_type": "code",
      "metadata": {
        "id": "P_cQsVMW57MD",
        "colab_type": "code",
        "colab": {}
      },
      "source": [
        "tqdm._instances.clear()"
      ],
      "execution_count": 35,
      "outputs": []
    },
    {
      "cell_type": "code",
      "metadata": {
        "id": "mhxJPaHTCfN6",
        "colab_type": "code",
        "colab": {
          "base_uri": "https://localhost:8080/",
          "height": 955
        },
        "outputId": "0639635e-6aa5-4152-f5f2-eb1b020e9529"
      },
      "source": [
        "# For other minimal examples, please follow the link below\n",
        "# https://github.com/catalyst-team/catalyst#minimal-examples\n",
        "runner = CustomRunner()\n",
        "# model training\n",
        "runner.train(\n",
        "    model=model,\n",
        "    criterion=criterion,\n",
        "    optimizer=optimizer,\n",
        "    scheduler=None,\n",
        "    loaders=loaders,\n",
        "    logdir=\"./logs\",\n",
        "    num_epochs=10,\n",
        "    verbose=True,\n",
        "    load_best_on_end=True,\n",
        "    overfit=False,  #  <<<--- DO NOT FORGET TO MAKE IT ``False`` \n",
        "                    #  (``True`` uses only one batch to check pipeline correctness)\n",
        "\n",
        "    main_metric=\"relat_diff\", # \"ap/mean\", \n",
        "    minimize_metric=False,\n",
        ")"
      ],
      "execution_count": 36,
      "outputs": [
        {
          "output_type": "stream",
          "text": [
            "1/10 * Epoch (train): 100% 127/127 [00:07<00:00, 17.47it/s, abs_diff=-9.871e+03, loss=-9.871e-01, relat_diff=-2.484e-01]\n",
            "1/10 * Epoch (valid): 100% 64/64 [00:02<00:00, 23.12it/s, abs_diff=-1.094e+04, loss=-1.094e+00, relat_diff=-2.605e-01]\n",
            "[2020-09-20 00:06:45,204] \n",
            "1/10 * Epoch 1 (train): abs_diff=-1.173e+04 | loss=-1.173e+00 | relat_diff=-2.525e-01\n",
            "1/10 * Epoch 1 (valid): abs_diff=-1.120e+04 | loss=-1.120e+00 | relat_diff=-2.580e-01\n",
            "2/10 * Epoch (train): 100% 127/127 [00:06<00:00, 18.93it/s, abs_diff=-8.085e+03, loss=-8.085e-01, relat_diff=-2.471e-01]\n",
            "2/10 * Epoch (valid): 100% 64/64 [00:02<00:00, 22.95it/s, abs_diff=-1.019e+04, loss=-1.019e+00, relat_diff=-2.322e-01]\n",
            "[2020-09-20 00:06:54,779] \n",
            "2/10 * Epoch 2 (train): abs_diff=-1.045e+04 | loss=-1.045e+00 | relat_diff=-2.433e-01\n",
            "2/10 * Epoch 2 (valid): abs_diff=-1.045e+04 | loss=-1.045e+00 | relat_diff=-2.398e-01\n",
            "3/10 * Epoch (train): 100% 127/127 [00:06<00:00, 18.82it/s, abs_diff=-8.755e+03, loss=-8.755e-01, relat_diff=-2.360e-01]\n",
            "3/10 * Epoch (valid): 100% 64/64 [00:02<00:00, 22.12it/s, abs_diff=-9.729e+03, loss=-9.729e-01, relat_diff=-2.325e-01]\n",
            "[2020-09-20 00:07:04,497] \n",
            "3/10 * Epoch 3 (train): abs_diff=-1.005e+04 | loss=-1.005e+00 | relat_diff=-2.418e-01\n",
            "3/10 * Epoch 3 (valid): abs_diff=-1.017e+04 | loss=-1.017e+00 | relat_diff=-2.477e-01\n",
            "4/10 * Epoch (train): 100% 127/127 [00:06<00:00, 18.89it/s, abs_diff=-8.982e+03, loss=-8.982e-01, relat_diff=-2.528e-01]\n",
            "4/10 * Epoch (valid): 100% 64/64 [00:02<00:00, 21.86it/s, abs_diff=-9.487e+03, loss=-9.487e-01, relat_diff=-2.234e-01]\n",
            "[2020-09-20 00:07:14,221] \n",
            "4/10 * Epoch 4 (train): abs_diff=-9.855e+03 | loss=-9.855e-01 | relat_diff=-2.446e-01\n",
            "4/10 * Epoch 4 (valid): abs_diff=-9.987e+03 | loss=-9.987e-01 | relat_diff=-2.422e-01\n",
            "5/10 * Epoch (train): 100% 127/127 [00:06<00:00, 18.84it/s, abs_diff=-7.510e+03, loss=-7.510e-01, relat_diff=-2.451e-01]\n",
            "5/10 * Epoch (valid): 100% 64/64 [00:02<00:00, 22.92it/s, abs_diff=-9.148e+03, loss=-9.148e-01, relat_diff=-2.265e-01]\n",
            "[2020-09-20 00:07:23,816] \n",
            "5/10 * Epoch 5 (train): abs_diff=-9.661e+03 | loss=-9.661e-01 | relat_diff=-2.443e-01\n",
            "5/10 * Epoch 5 (valid): abs_diff=-9.833e+03 | loss=-9.833e-01 | relat_diff=-2.533e-01\n",
            "6/10 * Epoch (train): 100% 127/127 [00:06<00:00, 18.81it/s, abs_diff=-9.954e+03, loss=-9.954e-01, relat_diff=-2.181e-01]\n",
            "6/10 * Epoch (valid): 100% 64/64 [00:02<00:00, 22.36it/s, abs_diff=-8.890e+03, loss=-8.890e-01, relat_diff=-2.130e-01]\n",
            "[2020-09-20 00:07:33,497] \n",
            "6/10 * Epoch 6 (train): abs_diff=-9.525e+03 | loss=-9.525e-01 | relat_diff=-2.445e-01\n",
            "6/10 * Epoch 6 (valid): abs_diff=-9.663e+03 | loss=-9.663e-01 | relat_diff=-2.448e-01\n",
            "7/10 * Epoch (train): 100% 127/127 [00:06<00:00, 19.01it/s, abs_diff=-1.046e+04, loss=-1.046e+00, relat_diff=-1.939e-01]\n",
            "7/10 * Epoch (valid): 100% 64/64 [00:02<00:00, 22.49it/s, abs_diff=-8.602e+03, loss=-8.602e-01, relat_diff=-2.051e-01]\n",
            "[2020-09-20 00:07:43,088] \n",
            "7/10 * Epoch 7 (train): abs_diff=-9.352e+03 | loss=-9.352e-01 | relat_diff=-2.435e-01\n",
            "7/10 * Epoch 7 (valid): abs_diff=-9.370e+03 | loss=-9.370e-01 | relat_diff=-2.377e-01\n",
            "8/10 * Epoch (train): 100% 127/127 [00:06<00:00, 18.87it/s, abs_diff=-6.863e+03, loss=-6.863e-01, relat_diff=-2.699e-01]\n",
            "8/10 * Epoch (valid): 100% 64/64 [00:02<00:00, 22.80it/s, abs_diff=-8.060e+03, loss=-8.060e-01, relat_diff=-2.095e-01]\n",
            "[2020-09-20 00:07:52,703] \n",
            "8/10 * Epoch 8 (train): abs_diff=-8.993e+03 | loss=-8.993e-01 | relat_diff=-2.394e-01\n",
            "8/10 * Epoch 8 (valid): abs_diff=-8.675e+03 | loss=-8.675e-01 | relat_diff=-2.334e-01\n",
            "9/10 * Epoch (train): 100% 127/127 [00:06<00:00, 19.04it/s, abs_diff=-6.957e+03, loss=-6.957e-01, relat_diff=-2.434e-01]\n",
            "9/10 * Epoch (valid): 100% 64/64 [00:02<00:00, 22.70it/s, abs_diff=-7.442e+03, loss=-7.442e-01, relat_diff=-1.862e-01]\n",
            "[2020-09-20 00:08:02,277] \n",
            "9/10 * Epoch 9 (train): abs_diff=-8.565e+03 | loss=-8.565e-01 | relat_diff=-2.331e-01\n",
            "9/10 * Epoch 9 (valid): abs_diff=-7.911e+03 | loss=-7.911e-01 | relat_diff=-2.091e-01\n",
            "10/10 * Epoch (train): 100% 127/127 [00:06<00:00, 18.69it/s, abs_diff=-7.578e+03, loss=-7.578e-01, relat_diff=-2.323e-01]\n",
            "10/10 * Epoch (valid): 100% 64/64 [00:02<00:00, 22.92it/s, abs_diff=-7.223e+03, loss=-7.223e-01, relat_diff=-1.847e-01]\n",
            "[2020-09-20 00:08:11,941] \n",
            "10/10 * Epoch 10 (train): abs_diff=-8.246e+03 | loss=-8.246e-01 | relat_diff=-2.241e-01\n",
            "10/10 * Epoch 10 (valid): abs_diff=-7.828e+03 | loss=-7.828e-01 | relat_diff=-2.039e-01\n",
            "Top best models:\n",
            "logs/checkpoints/train.10.pth\t-0.2039\n",
            "=> Loading checkpoint logs/checkpoints/best_full.pth\n",
            "loaded state checkpoint logs/checkpoints/best_full.pth (global epoch 10, epoch 10, stage train)\n"
          ],
          "name": "stdout"
        }
      ]
    },
    {
      "cell_type": "code",
      "metadata": {
        "id": "9Q6VDIystDpz",
        "colab_type": "code",
        "colab": {}
      },
      "source": [
        "#!ls logs/checkpoints"
      ],
      "execution_count": 37,
      "outputs": []
    },
    {
      "cell_type": "code",
      "metadata": {
        "id": "GxDI9VO2tPiT",
        "colab_type": "code",
        "colab": {}
      },
      "source": [
        "#model.load_state_dict(torch.load('logs/checkpoints/best_full.pth'))"
      ],
      "execution_count": 38,
      "outputs": []
    },
    {
      "cell_type": "code",
      "metadata": {
        "id": "JOcCP9Qxll0s",
        "colab_type": "code",
        "colab": {
          "base_uri": "https://localhost:8080/",
          "height": 34
        },
        "outputId": "5631b6e5-54f8-45d6-ed2c-e6c360704f8d"
      },
      "source": [
        "# R2 - R squared metric for computing explained variance (should be more than zero for a satisfying solution)\n",
        "\n",
        "def compute_regression_metrics(model, dataloader):\n",
        "    l1_loss = 0\n",
        "    l2_loss = 0\n",
        "    R2 = 0\n",
        "    l2_loss_mean = 0\n",
        "    \n",
        "    with torch.no_grad():\n",
        "      for batch in dataloader:\n",
        "          prediction = model(batch['features'])[:, -1]\n",
        "          target = batch['targets'].to(device)[:, -1]\n",
        "          mean = batch['features']['sum'].mean(1)\n",
        "          l1_loss += F.l1_loss(prediction, target)\n",
        "          l2_loss += F.mse_loss(prediction, target)\n",
        "          l2_loss_mean += F.mse_loss(mean, target)\n",
        "\n",
        "    R2 = 1 - l2_loss / l2_loss_mean\n",
        "    l2_loss = l2_loss / len(dataloader)\n",
        "    l1_loss = l1_loss / len(dataloader)\n",
        "    l2_loss_mean = l2_loss_mean / len(dataloader)\n",
        "\n",
        "    return l1_loss, l2_loss, R2\n",
        "\n",
        "l1_loss, l2_loss, R2 = compute_regression_metrics(model, valid_loader)\n",
        "print(f'l1_loss {l1_loss}, l2_loss {l2_loss}, R2 {R2}')\n",
        "  "
      ],
      "execution_count": 39,
      "outputs": [
        {
          "output_type": "stream",
          "text": [
            "l1_loss 1.2456588546380114, l2_loss 151.3647574189644, R2 -0.19792972103831974\n"
          ],
          "name": "stdout"
        }
      ]
    },
    {
      "cell_type": "code",
      "metadata": {
        "id": "aAwyxniOs-Ec",
        "colab_type": "code",
        "colab": {}
      },
      "source": [
        ""
      ],
      "execution_count": null,
      "outputs": []
    }
  ]
}